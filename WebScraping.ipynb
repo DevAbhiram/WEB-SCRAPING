{
  "cells": [
    {
      "cell_type": "markdown",
      "metadata": {
        "id": "view-in-github",
        "colab_type": "text"
      },
      "source": [
        "<a href=\"https://colab.research.google.com/github/DevAbhiram/WEB-SCRAPING/blob/main/WebScraping.ipynb\" target=\"_parent\"><img src=\"https://colab.research.google.com/assets/colab-badge.svg\" alt=\"Open In Colab\"/></a>"
      ]
    },
    {
      "cell_type": "code",
      "execution_count": 14,
      "metadata": {
        "colab": {
          "base_uri": "https://localhost:8080/"
        },
        "id": "VV6EwcKNGOqZ",
        "outputId": "e3e1f81b-aed5-4ceb-c100-270eb872ce90"
      },
      "outputs": [
        {
          "output_type": "stream",
          "name": "stdout",
          "text": [
            "Enter Your Email: abhiram.codes@gmail.com\n",
            "Enter Your Targeted Price: 90000\n",
            "Price tracking has started\n",
            "Current Price: ₹79900.0\n",
            "Email sent successfully!\n"
          ]
        }
      ],
      "source": [
        "import requests\n",
        "from bs4 import BeautifulSoup\n",
        "import smtplib\n",
        "from email.mime.text import MIMEText\n",
        "import time\n",
        "import re\n",
        "import os\n",
        "\n",
        "def getPrice(url):\n",
        "    try:\n",
        "        response = requests.get(url, headers={\n",
        "            'User-Agent': 'Mozilla/5.0 (Windows NT 10.0; Win64; x64) AppleWebKit/537.36 (KHTML, like Gecko) Chrome/130.0.0.0 Safari/537.36'\n",
        "        })\n",
        "        if response.status_code == 200:\n",
        "            myStore = BeautifulSoup(response.content, 'html.parser')\n",
        "            priceElement = myStore.select_one('.a-price-whole')\n",
        "            if priceElement:\n",
        "                pricePlainText = priceElement.get_text().strip()\n",
        "                priceNumber = re.findall(r'[\\d,]+', pricePlainText)\n",
        "                if priceNumber:\n",
        "                    return float(priceNumber[0].replace(',', ''))\n",
        "        else:\n",
        "            print(\"Failed to retrieve data from Amazon.\")\n",
        "    except Exception as e:\n",
        "        print(f\"Error fetching price: {e}\")\n",
        "    return None\n",
        "\n",
        "def mailSend(subject, body, toEmail):\n",
        "    gmailUser = \"btechabhi07@gmail.com\"\n",
        "    gmailPassword = \"irno bjjc csru wnaj\"\n",
        "    try:\n",
        "        msg = MIMEText(body)\n",
        "        msg['Subject'] = subject\n",
        "        msg['From'] = gmailUser\n",
        "        msg['To'] = toEmail\n",
        "        with smtplib.SMTP_SSL('smtp.gmail.com', 465) as server:\n",
        "            server.login(gmailUser, gmailPassword)\n",
        "            server.sendmail(gmailUser, toEmail, msg.as_string())\n",
        "        print(\"Email sent successfully!\")\n",
        "    except Exception as e:\n",
        "        print(f\"Error sending email: {e}\")\n",
        "\n",
        "def priceTracker(url, targetPrice, userEmail, interval=1800):\n",
        "    while True:\n",
        "        currentPrice = getPrice(url)\n",
        "        if currentPrice is not None:\n",
        "            print(f\"Current Price: ₹{currentPrice}\")\n",
        "            if currentPrice <= targetPrice:\n",
        "                subject = \"🚨 Price Drop Alert! Your Item is Now Cheaper 🎉\"\n",
        "                body = f\"\"\"\n",
        "                Hey there! Great news! The price of your tracked item has just dropped.\n",
        "                💸 Previous Price: ₹{targetPrice}\n",
        "                🔥 New Price: ₹{currentPrice}\n",
        "\n",
        "                Don’t miss this chance! Click below to grab it before it's gone:\n",
        "                👉 {url}\n",
        "\n",
        "                Happy shopping and enjoy the savings!\n",
        "                Best, Abhiram\n",
        "                \"\"\"\n",
        "                mailSend(subject, body, userEmail)\n",
        "                break\n",
        "            else:\n",
        "                print(\"Price has not reached the target level. Checking again in 30 minutes.\")\n",
        "        else:\n",
        "            print(\"Failed to retrieve price. Retrying in 30 minutes.\")\n",
        "        time.sleep(interval)\n",
        "\n",
        "if __name__ == \"__main__\":\n",
        "\n",
        "    url = \"https://www.amazon.in/Apple-iPhone-16-128-GB/dp/B0DGJHBX5Y/ref=sr_1_1_sspa\"\n",
        "    userEmail = input(\"Enter Your Email: \")\n",
        "    try:\n",
        "        targetPrice = int(input(\"Enter Your Targeted Price: \"))\n",
        "        print(\"Price tracking has started\")\n",
        "        priceTracker(url, targetPrice, userEmail)\n",
        "    except ValueError:\n",
        "        print(\"Please enter a valid numeric target price.\")"
      ]
    },
    {
      "cell_type": "code",
      "source": [
        "!pip install requests beautifulsoup4 smtplib email time regex"
      ],
      "metadata": {
        "colab": {
          "base_uri": "https://localhost:8080/"
        },
        "id": "VtiF1OR9B2P3",
        "outputId": "5fd4107b-de1d-4433-ea5e-c53e8ad6d565"
      },
      "execution_count": null,
      "outputs": [
        {
          "output_type": "stream",
          "name": "stdout",
          "text": [
            "Requirement already satisfied: requests in /usr/local/lib/python3.10/dist-packages (2.32.3)\n",
            "Requirement already satisfied: beautifulsoup4 in /usr/local/lib/python3.10/dist-packages (4.12.3)\n",
            "\u001b[31mERROR: Could not find a version that satisfies the requirement smtplib (from versions: none)\u001b[0m\u001b[31m\n",
            "\u001b[0m\u001b[31mERROR: No matching distribution found for smtplib\u001b[0m\u001b[31m\n",
            "\u001b[0m"
          ]
        }
      ]
    },
    {
      "cell_type": "code",
      "source": [],
      "metadata": {
        "id": "NMCjbuK1B0sS"
      },
      "execution_count": null,
      "outputs": []
    }
  ],
  "metadata": {
    "colab": {
      "provenance": [],
      "toc_visible": true,
      "authorship_tag": "ABX9TyPdvAPD4bEAqYZuOaeTrfEv",
      "include_colab_link": true
    },
    "kernelspec": {
      "display_name": "Python 3",
      "name": "python3"
    },
    "language_info": {
      "name": "python"
    }
  },
  "nbformat": 4,
  "nbformat_minor": 0
}